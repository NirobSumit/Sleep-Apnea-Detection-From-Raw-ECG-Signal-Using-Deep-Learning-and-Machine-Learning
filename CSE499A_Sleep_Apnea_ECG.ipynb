{
 "cells": [
  {
   "cell_type": "code",
   "execution_count": 1,
   "id": "6a0b7c1e",
   "metadata": {},
   "outputs": [],
   "source": [
    "import numpy as np\n",
    "import pandas as pd\n",
    "from mat4py import loadmat\n",
    "from sklearn.model_selection import train_test_split\n",
    "from sklearn.metrics import confusion_matrix, accuracy_score\n",
    "from sklearn import metrics\n",
    "from sklearn.utils import resample\n",
    "\n",
    "import tensorflow\n",
    "from tensorflow.keras.callbacks import ModelCheckpoint\n",
    "import sklearn\n",
    "from tensorflow.keras.datasets import mnist\n",
    "from tensorflow.keras.models import Sequential\n",
    "from tensorflow.keras.models import Model\n",
    "from tensorflow.keras.layers import Dense, Dropout, Activation, Flatten, BatchNormalization,Concatenate,concatenate, Input\n",
    "from tensorflow.keras.layers import Conv2D, Conv1D, MaxPooling1D\n",
    "from tensorflow.keras.regularizers import l2\n",
    "import matplotlib.pyplot as plt\n",
    "import pickle"
   ]
  },
  {
   "cell_type": "code",
   "execution_count": 2,
   "id": "4c78edb1",
   "metadata": {},
   "outputs": [],
   "source": [
    "list_string=['ucddb002','ucddb003','ucddb005','ucddb006','ucddb007','ucddb009',\\\n",
    "             'ucddb010','ucddb012','ucddb014','ucddb015','ucddb017',\\\n",
    "             'ucddb019','ucddb020','ucddb021','ucddb022','ucddb023','ucddb024',\\\n",
    "             'ucddb025','ucddb026','ucddb027','ucddb028']#'ucddb008','ucddb011','ucddb013','ucddb014',\n",
    "\n",
    "\n",
    "valid_features=np.zeros((1,1408))\n",
    "test_features=np.zeros((1,1408))\n",
    "valid_labels=np.zeros((1,1))\n",
    "test_labels=np.zeros((1,1))\n",
    "for l in list_string:\n",
    "        \n",
    "        \n",
    "        ecg_valid = loadmat('D:\\\\CSE499\\\\files2\\\\'+l+'_ecg_valid.mat')\n",
    "        ecg_valid = np.array(ecg_valid['ecg_valid'])\n",
    "        ecg_valid_labels=loadmat('D:\\\\CSE499\\\\files2\\\\'+l+'_valid_labels.mat')\n",
    "        ecg_valid_labels = np.array(ecg_valid_labels['class_valid'])\n",
    "        valid_features=np.append(valid_features,ecg_valid,axis=0)\n",
    "        valid_labels=np.append(valid_labels,ecg_valid_labels)\n",
    "       \n",
    "        \n",
    "        ecg_test = loadmat('D:\\\\CSE499\\\\files2\\\\'+l+'_ecg_test.mat')\n",
    "        ecg_test = np.array(ecg_test['ecg_test'])\n",
    "        ecg_test_labels=loadmat('D:\\\\CSE499\\\\files2\\\\'+l+'_test_labels.mat')\n",
    "        ecg_test_labels = np.array(ecg_test_labels['class_test'])\n",
    "        test_features=np.append(test_features,ecg_test,axis=0)\n",
    "        test_labels=np.append(test_labels,ecg_test_labels)\n",
    "        \n",
    "ecg_valid=valid_features[1:,:]\n",
    "valid_labels=valid_labels[1:]\n",
    "valid_labels = valid_labels.flatten()\n",
    "\n",
    "ecg_test=test_features[1:,:]\n",
    "test_labels=test_labels[1:]\n",
    "test_labels = test_labels.flatten()"
   ]
  },
  {
   "cell_type": "code",
   "execution_count": 3,
   "id": "02239470",
   "metadata": {},
   "outputs": [],
   "source": [
    "train_features=np.zeros((1,1408))\n",
    "\n",
    "train_labels=np.zeros((1,1))\n",
    "\n",
    "for l in list_string:\n",
    "        ecg_train = loadmat('D:\\\\CSE499\\\\files2\\\\'+l+'_ecg_train.mat')\n",
    "        ecg_train = np.array(ecg_train['ecg_train'])\n",
    "        ecg_train_labels=loadmat('D:\\\\CSE499\\\\files2\\\\'+l+'_train_labels.mat')\n",
    "        ecg_train_labels = np.array(ecg_train_labels['class_train'])\n",
    "        train_features=np.append(train_features,ecg_train,axis=0)\n",
    "        train_labels=np.append(train_labels,ecg_train_labels)\n",
    "        \n",
    "ecg_train=train_features[1:,:]\n",
    "\n",
    "train_labels=train_labels[1:]\n",
    "train_labels = train_labels.flatten()"
   ]
  },
  {
   "cell_type": "code",
   "execution_count": 4,
   "id": "75f64241",
   "metadata": {},
   "outputs": [],
   "source": [
    "ecg_train_mean=np.mean(ecg_train)\n",
    "ecg_train_std=np.std(ecg_train)"
   ]
  },
  {
   "cell_type": "code",
   "execution_count": 5,
   "id": "1a2bd026",
   "metadata": {},
   "outputs": [],
   "source": [
    "for i in range(ecg_train.shape[0]):\n",
    "    ecg_train[i,:]=(ecg_train[i,:]-ecg_train_mean)/ecg_train_std\n",
    "    \n",
    "for i in range(ecg_valid.shape[0]):\n",
    "    ecg_valid[i,:]=(ecg_valid[i,:]-ecg_train_mean)/ecg_train_std\n",
    "    \n",
    "for i in range(ecg_test.shape[0]):\n",
    "    ecg_test[i,:]=(ecg_test[i,:]-ecg_train_mean)/ecg_train_std\n",
    "    \n",
    "\n",
    "ecg_train=np.expand_dims(ecg_train, axis=2)\n",
    "ecg_valid=np.expand_dims(ecg_valid, axis=2)\n",
    "ecg_test=np.expand_dims(ecg_test, axis=2)"
   ]
  },
  {
   "cell_type": "code",
   "execution_count": 6,
   "id": "a45a8e0c",
   "metadata": {},
   "outputs": [],
   "source": [
    "y_train=train_labels\n",
    "y_valid=valid_labels\n",
    "y_test=test_labels"
   ]
  },
  {
   "cell_type": "code",
   "execution_count": 7,
   "id": "61e5a680",
   "metadata": {},
   "outputs": [],
   "source": [
    "tensorflow.keras.backend.clear_session()"
   ]
  },
  {
   "cell_type": "code",
   "execution_count": 8,
   "id": "b6102157",
   "metadata": {},
   "outputs": [],
   "source": [
    "num_classes=2"
   ]
  },
  {
   "cell_type": "code",
   "execution_count": 9,
   "id": "26f6cbb7",
   "metadata": {},
   "outputs": [],
   "source": [
    "y_train_encoder = sklearn.preprocessing.LabelEncoder()\n",
    "y_train_num = y_train_encoder.fit_transform(y_train)\n",
    "y_train_wide = tensorflow.keras.utils.to_categorical(y_train_num, num_classes)\n",
    "\n",
    "y_valid_num = y_train_encoder.fit_transform(y_valid)\n",
    "y_valid_wide = tensorflow.keras.utils.to_categorical(y_valid_num, num_classes)\n",
    "\n",
    "y_test_num = y_train_encoder.fit_transform(y_test)\n",
    "y_test_wide = tensorflow.keras.utils.to_categorical(y_test_num, num_classes)"
   ]
  },
  {
   "cell_type": "code",
   "execution_count": 10,
   "id": "0d9a173e",
   "metadata": {},
   "outputs": [
    {
     "name": "stdout",
     "output_type": "stream",
     "text": [
      "Model: \"sequential\"\n",
      "_________________________________________________________________\n",
      " Layer (type)                Output Shape              Param #   \n",
      "=================================================================\n",
      " batch_normalization (BatchN  (None, 1408, 1)          4         \n",
      " ormalization)                                                   \n",
      "                                                                 \n",
      " conv1d (Conv1D)             (None, 655, 3)            303       \n",
      "                                                                 \n",
      " activation (Activation)     (None, 655, 3)            0         \n",
      "                                                                 \n",
      " max_pooling1d (MaxPooling1D  (None, 327, 3)           0         \n",
      " )                                                               \n",
      "                                                                 \n",
      " conv1d_1 (Conv1D)           (None, 318, 50)           1550      \n",
      "                                                                 \n",
      " max_pooling1d_1 (MaxPooling  (None, 159, 50)          0         \n",
      " 1D)                                                             \n",
      "                                                                 \n",
      " activation_1 (Activation)   (None, 159, 50)           0         \n",
      "                                                                 \n",
      " conv1d_2 (Conv1D)           (None, 130, 30)           45030     \n",
      "                                                                 \n",
      " max_pooling1d_2 (MaxPooling  (None, 65, 30)           0         \n",
      " 1D)                                                             \n",
      "                                                                 \n",
      " activation_2 (Activation)   (None, 65, 30)            0         \n",
      "                                                                 \n",
      " batch_normalization_1 (Batc  (None, 65, 30)           120       \n",
      " hNormalization)                                                 \n",
      "                                                                 \n",
      " flatten (Flatten)           (None, 1950)              0         \n",
      "                                                                 \n",
      " dropout (Dropout)           (None, 1950)              0         \n",
      "                                                                 \n",
      " dense (Dense)               (None, 2)                 3902      \n",
      "                                                                 \n",
      "=================================================================\n",
      "Total params: 50,909\n",
      "Trainable params: 50,847\n",
      "Non-trainable params: 62\n",
      "_________________________________________________________________\n"
     ]
    }
   ],
   "source": [
    "model_ecg = Sequential()\n",
    "model_ecg.add(BatchNormalization(input_shape=(1408,1)))\n",
    "model_ecg.add(Conv1D(3, kernel_size=(100),strides=2))\n",
    "model_ecg.add(Activation(\"relu\"))\n",
    "model_ecg.add(MaxPooling1D(pool_size=(2),strides=2))\n",
    "model_ecg.add(Conv1D(50, (10)))\n",
    "model_ecg.add(MaxPooling1D(pool_size=(2),strides=2))\n",
    "model_ecg.add(Activation(\"relu\"))\n",
    "model_ecg.add(Conv1D(30, (30)))\n",
    "model_ecg.add(MaxPooling1D(pool_size=(2)))\n",
    "model_ecg.add(Activation(\"relu\"))\n",
    "model_ecg.add(BatchNormalization())\n",
    "model_ecg.add(Flatten())\n",
    "model_ecg.add(Dropout(0.25))\n",
    "model_ecg.add(Dense(2, kernel_regularizer=l2(0.01), bias_regularizer=l2(0.01), activation='softmax'))\n",
    "\n",
    "model_ecg.summary()\n"
   ]
  },
  {
   "cell_type": "code",
   "execution_count": 11,
   "id": "c430ebe9",
   "metadata": {},
   "outputs": [],
   "source": [
    "batch_size = 32\n",
    "epochs = 30\n",
    "\n",
    "opt = tensorflow.keras.optimizers.Adam(learning_rate = 0.001)\n",
    "model_ecg.compile(loss='binary_crossentropy',\n",
    "              optimizer=opt,\n",
    "              metrics=['accuracy'])"
   ]
  },
  {
   "cell_type": "code",
   "execution_count": 12,
   "id": "c091a0e0",
   "metadata": {},
   "outputs": [
    {
     "name": "stdout",
     "output_type": "stream",
     "text": [
      "Num GPUs Available:  0\n"
     ]
    }
   ],
   "source": [
    "print(\"Num GPUs Available: \", len(tensorflow.config.experimental.list_physical_devices('GPU')))"
   ]
  },
  {
   "cell_type": "code",
   "execution_count": 13,
   "id": "66b13ac7",
   "metadata": {},
   "outputs": [
    {
     "data": {
      "text/plain": [
       "(805926, 1408, 1)"
      ]
     },
     "execution_count": 13,
     "metadata": {},
     "output_type": "execute_result"
    }
   ],
   "source": [
    "ecg_train.shape"
   ]
  },
  {
   "cell_type": "code",
   "execution_count": 14,
   "id": "fb5fc279",
   "metadata": {},
   "outputs": [],
   "source": [
    "best_weights_filepath_ecg = './best_weights_ecg_32layer.hdf5'"
   ]
  },
  {
   "cell_type": "code",
   "execution_count": 15,
   "id": "cbad573f",
   "metadata": {},
   "outputs": [
    {
     "name": "stdout",
     "output_type": "stream",
     "text": [
      "Epoch 1/30\n",
      "25186/25186 [==============================] - 576s 23ms/step - loss: 0.1945 - accuracy: 0.9287 - val_loss: 0.1358 - val_accuracy: 0.9580\n",
      "Epoch 2/30\n",
      "25186/25186 [==============================] - 564s 22ms/step - loss: 0.0964 - accuracy: 0.9725 - val_loss: 0.0897 - val_accuracy: 0.9753\n",
      "Epoch 3/30\n",
      "25186/25186 [==============================] - 559s 22ms/step - loss: 0.0785 - accuracy: 0.9793 - val_loss: 0.0983 - val_accuracy: 0.9682\n",
      "Epoch 4/30\n",
      "25186/25186 [==============================] - 559s 22ms/step - loss: 0.0695 - accuracy: 0.9824 - val_loss: 0.0774 - val_accuracy: 0.9765\n",
      "Epoch 5/30\n",
      "25186/25186 [==============================] - 569s 23ms/step - loss: 0.0638 - accuracy: 0.9845 - val_loss: 0.0773 - val_accuracy: 0.9766\n",
      "Epoch 6/30\n",
      "25186/25186 [==============================] - 560s 22ms/step - loss: 0.0597 - accuracy: 0.9860 - val_loss: 0.0654 - val_accuracy: 0.9846\n",
      "Epoch 7/30\n",
      "25186/25186 [==============================] - 560s 22ms/step - loss: 0.0564 - accuracy: 0.9871 - val_loss: 0.0705 - val_accuracy: 0.9831\n",
      "Epoch 8/30\n",
      "25186/25186 [==============================] - 574s 23ms/step - loss: 0.0544 - accuracy: 0.9878 - val_loss: 0.0896 - val_accuracy: 0.9801\n",
      "Epoch 9/30\n",
      "25186/25186 [==============================] - 564s 22ms/step - loss: 0.0525 - accuracy: 0.9884 - val_loss: 0.0568 - val_accuracy: 0.9848\n",
      "Epoch 10/30\n",
      "25186/25186 [==============================] - 565s 22ms/step - loss: 0.0504 - accuracy: 0.9891 - val_loss: 0.0651 - val_accuracy: 0.9842\n",
      "Epoch 11/30\n",
      "25186/25186 [==============================] - 565s 22ms/step - loss: 0.0493 - accuracy: 0.9896 - val_loss: 0.0651 - val_accuracy: 0.9799\n",
      "Epoch 12/30\n",
      "25186/25186 [==============================] - 562s 22ms/step - loss: 0.0486 - accuracy: 0.9897 - val_loss: 0.0802 - val_accuracy: 0.9808\n",
      "Epoch 13/30\n",
      "25186/25186 [==============================] - 566s 22ms/step - loss: 0.0465 - accuracy: 0.9905 - val_loss: 0.0652 - val_accuracy: 0.9844\n",
      "Epoch 14/30\n",
      "25186/25186 [==============================] - 566s 22ms/step - loss: 0.0458 - accuracy: 0.9908 - val_loss: 0.0832 - val_accuracy: 0.9829\n",
      "Epoch 15/30\n",
      "25186/25186 [==============================] - 571s 23ms/step - loss: 0.0452 - accuracy: 0.9908 - val_loss: 0.0648 - val_accuracy: 0.9864\n",
      "Epoch 16/30\n",
      "25186/25186 [==============================] - 567s 23ms/step - loss: 0.0443 - accuracy: 0.9912 - val_loss: 0.0668 - val_accuracy: 0.9831\n",
      "Epoch 17/30\n",
      "25186/25186 [==============================] - 565s 22ms/step - loss: 0.0436 - accuracy: 0.9913 - val_loss: 0.0477 - val_accuracy: 0.9911\n",
      "Epoch 18/30\n",
      "25186/25186 [==============================] - 571s 23ms/step - loss: 0.0432 - accuracy: 0.9915 - val_loss: 0.0639 - val_accuracy: 0.9828\n",
      "Epoch 19/30\n",
      "25186/25186 [==============================] - 565s 22ms/step - loss: 0.0425 - accuracy: 0.9917 - val_loss: 0.0666 - val_accuracy: 0.9883\n",
      "Epoch 20/30\n",
      "25186/25186 [==============================] - 564s 22ms/step - loss: 0.0415 - accuracy: 0.9921 - val_loss: 0.0573 - val_accuracy: 0.9870\n",
      "Epoch 21/30\n",
      "25186/25186 [==============================] - 566s 22ms/step - loss: 0.0410 - accuracy: 0.9922 - val_loss: 0.0603 - val_accuracy: 0.9877\n",
      "Epoch 22/30\n",
      "25186/25186 [==============================] - 567s 23ms/step - loss: 0.0405 - accuracy: 0.9923 - val_loss: 0.0507 - val_accuracy: 0.9875\n",
      "Epoch 23/30\n",
      "25186/25186 [==============================] - 567s 22ms/step - loss: 0.0402 - accuracy: 0.9925 - val_loss: 0.0686 - val_accuracy: 0.9816\n",
      "Epoch 24/30\n",
      "25186/25186 [==============================] - 564s 22ms/step - loss: 0.0400 - accuracy: 0.9924 - val_loss: 0.0613 - val_accuracy: 0.9854\n",
      "Epoch 25/30\n",
      "25186/25186 [==============================] - 562s 22ms/step - loss: 0.0396 - accuracy: 0.9926 - val_loss: 0.0701 - val_accuracy: 0.9852\n",
      "Epoch 26/30\n",
      "25186/25186 [==============================] - 562s 22ms/step - loss: 0.0394 - accuracy: 0.9927 - val_loss: 0.0490 - val_accuracy: 0.9865\n",
      "Epoch 27/30\n",
      "25186/25186 [==============================] - 563s 22ms/step - loss: 0.0391 - accuracy: 0.9928 - val_loss: 0.1041 - val_accuracy: 0.9797\n",
      "Epoch 28/30\n",
      "25186/25186 [==============================] - 561s 22ms/step - loss: 0.0383 - accuracy: 0.9930 - val_loss: 0.0615 - val_accuracy: 0.9868\n",
      "Epoch 29/30\n",
      "25186/25186 [==============================] - 558s 22ms/step - loss: 0.0384 - accuracy: 0.9930 - val_loss: 0.0782 - val_accuracy: 0.9830\n",
      "Epoch 30/30\n",
      "25186/25186 [==============================] - 564s 22ms/step - loss: 0.0378 - accuracy: 0.9933 - val_loss: 0.0586 - val_accuracy: 0.9879\n"
     ]
    }
   ],
   "source": [
    "best_weights_filepath_ecg = './best_weights_ecg_32layer.hdf5'\n",
    "mcp_ecg = ModelCheckpoint(best_weights_filepath_ecg, monitor=\"val_accuracy\",\n",
    "                      save_best_only=True, save_weights_only=False)\n",
    "            \n",
    "history = model_ecg.fit(ecg_train, y_train_wide,\n",
    "         batch_size=batch_size,\n",
    "          epochs=epochs,\n",
    "          verbose=1,\n",
    "          validation_data=(ecg_valid, y_valid_wide),\n",
    "          callbacks=[mcp_ecg])"
   ]
  },
  {
   "cell_type": "code",
   "execution_count": 16,
   "id": "87a1ad8a",
   "metadata": {},
   "outputs": [
    {
     "data": {
      "image/png": "[encoded data removed]",
      "text/plain": [
       "<Figure size 600x1200 with 2 Axes>"
      ]
     },
     "metadata": {},
     "output_type": "display_data"
    }
   ],
   "source": [
    "loss = history.history['loss']\n",
    "val_loss = history.history['val_loss']\n",
    "\n",
    "acc=history.history['accuracy']\n",
    "val_acc=history.history['val_accuracy']\n",
    "\n",
    "plt.figure(figsize=(6,12))\n",
    "\n",
    "plt.subplot(2,1,1)\n",
    "\n",
    "plt.xlabel('Epochs')\n",
    "plt.ylabel('Loss')\n",
    "plt.plot(loss, 'blue', label='Training Loss')\n",
    "plt.plot(val_loss, 'green', label='Validation Loss')\n",
    "plt.xticks(range(0,epochs)[0::100])\n",
    "plt.title('Training and Validation Loss vs Epochs')\n",
    "plt.legend()\n",
    "\n",
    "plt.subplot(2,1,2)\n",
    "\n",
    "plt.xlabel('Epochs')\n",
    "plt.ylabel('Accuracy')\n",
    "plt.plot(acc, 'blue', label='Training Accuracy')\n",
    "plt.plot(val_acc, 'green', label='Validation Accuracy')\n",
    "plt.xticks(range(0,epochs)[0::100])\n",
    "plt.title('Training and Validation Accuracy vs Epochs')\n",
    "plt.legend()\n",
    "plt.savefig(\"plots_perf.svg\")\n",
    "plt.show()"
   ]
  },
  {
   "cell_type": "code",
   "execution_count": 18,
   "id": "7f916d7d",
   "metadata": {},
   "outputs": [
    {
     "name": "stdout",
     "output_type": "stream",
     "text": [
      "1617/1617 [==============================] - 4s 3ms/step\n"
     ]
    },
    {
     "data": {
      "text/plain": [
       "array([[49915,   453],\n",
       "       [   59,  1309]], dtype=int64)"
      ]
     },
     "execution_count": 18,
     "metadata": {},
     "output_type": "execute_result"
    }
   ],
   "source": [
    "model_ecg.load_weights('./best_weights_ecg_32layer.hdf5')\n",
    "y_pred = model_ecg.predict(ecg_test)\n",
    "predict_test=np.argmax(y_pred, axis=1)\n",
    "predict_test=predict_test.reshape(predict_test.shape[0],1)\n",
    "cm=confusion_matrix(y_test_num, predict_test)\n",
    "cm"
   ]
  },
  {
   "cell_type": "code",
   "execution_count": 19,
   "id": "bbaee750",
   "metadata": {},
   "outputs": [
    {
     "data": {
      "text/plain": [
       "0.9901036029070667"
      ]
     },
     "execution_count": 19,
     "metadata": {},
     "output_type": "execute_result"
    }
   ],
   "source": [
    "(cm[1,1]+cm[0,0])/(cm[1,1]+cm[1,0]+cm[0,0]+cm[0,1])"
   ]
  },
  {
   "cell_type": "code",
   "execution_count": 20,
   "id": "88c1ff17",
   "metadata": {},
   "outputs": [
    {
     "data": {
      "text/plain": [
       "0.9568713450292398"
      ]
     },
     "execution_count": 20,
     "metadata": {},
     "output_type": "execute_result"
    }
   ],
   "source": [
    "cm[1,1]/(cm[1,1]+cm[1,0])"
   ]
  },
  {
   "cell_type": "code",
   "execution_count": 21,
   "id": "aafd9c44",
   "metadata": {},
   "outputs": [
    {
     "data": {
      "text/plain": [
       "0.9910061944091486"
      ]
     },
     "execution_count": 21,
     "metadata": {},
     "output_type": "execute_result"
    }
   ],
   "source": [
    "cm[0,0]/(cm[0,0]+cm[0,1])"
   ]
  },
  {
   "cell_type": "code",
   "execution_count": 22,
   "id": "da1ff502",
   "metadata": {},
   "outputs": [
    {
     "name": "stdout",
     "output_type": "stream",
     "text": [
      "1617/1617 [==============================] - 5s 3ms/step\n",
      "Confusion Matrix:\n",
      "[[49915   453]\n",
      " [   59  1309]]\n",
      "Precision: 0.742905788876277\n",
      "Recall: 0.9568713450292398\n",
      "F1 Score: 0.8364217252396167\n",
      "Accuracy: 0.9901036029070667\n"
     ]
    }
   ],
   "source": [
    "from sklearn.metrics import classification_report, confusion_matrix, f1_score, precision_score, recall_score\n",
    "\n",
    "model_ecg.load_weights('./best_weights_ecg_32layer.hdf5')\n",
    "y_pred = model_ecg.predict(ecg_test)\n",
    "predict_test = np.argmax(y_pred, axis=1)\n",
    "predict_test = predict_test.reshape(predict_test.shape[0], 1)\n",
    "\n",
    "# Confusion Matrix\n",
    "cm = confusion_matrix(y_test_num, predict_test)\n",
    "print(\"Confusion Matrix:\")\n",
    "print(cm)\n",
    "\n",
    "# Precision, Recall, F1 Score\n",
    "precision = precision_score(y_test_num, predict_test)\n",
    "recall = recall_score(y_test_num, predict_test)\n",
    "f1 = f1_score(y_test_num, predict_test)\n",
    "print(f\"Precision: {precision}\")\n",
    "print(f\"Recall: {recall}\")\n",
    "print(f\"F1 Score: {f1}\")\n",
    "\n",
    "accuracy = (cm[1, 1] + cm[0, 0]) / (cm[1, 1] + cm[1, 0] + cm[0, 0] + cm[0, 1])\n",
    "print(f\"Accuracy: {accuracy}\")"
   ]
  },
  {
   "cell_type": "code",
   "execution_count": null,
   "id": "2ab55525",
   "metadata": {},
   "outputs": [],
   "source": []
  }
 ],
 "metadata": {
  "kernelspec": {
   "display_name": "Python 3 (ipykernel)",
   "language": "python",
   "name": "python3"
  },
  "language_info": {
   "codemirror_mode": {
    "name": "ipython",
    "version": 3
   },
   "file_extension": ".py",
   "mimetype": "text/x-python",
   "name": "python",
   "nbconvert_exporter": "python",
   "pygments_lexer": "ipython3",
   "version": "3.10.10"
  }
 },
 "nbformat": 4,
 "nbformat_minor": 5
}
